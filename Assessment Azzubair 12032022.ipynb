{
 "cells": [
  {
   "cell_type": "markdown",
   "id": "c0f01184",
   "metadata": {},
   "source": [
    "# 0) Importing Libraries and Dataset"
   ]
  },
  {
   "cell_type": "code",
   "execution_count": 1,
   "id": "4236a62b",
   "metadata": {},
   "outputs": [],
   "source": [
    "import numpy as np\n",
    "import pandas as pd\n",
    "import matplotlib.pyplot as plt\n",
    "import seaborn as sns\n",
    "from ipywidgets import interact, SelectionRangeSlider\n",
    "from tqdm import tqdm\n",
    "import warnings\n",
    "\n",
    "from sklearn.preprocessing import LabelEncoder, StandardScaler\n",
    "from sklearn.model_selection import train_test_split\n",
    "\n",
    "from sklearn.ensemble import RandomForestClassifier\n",
    "from sklearn.tree import DecisionTreeClassifier\n",
    "from sklearn.svm import SVC\n",
    "\n",
    "from sklearn.metrics import accuracy_score\n",
    "from sklearn.metrics import confusion_matrix\n",
    "from sklearn.metrics import classification_report\n",
    "from sklearn.metrics import plot_confusion_matrix\n",
    "\n",
    "from sklearn.metrics import mean_squared_error\n",
    "from sklearn.metrics import mean_absolute_error\n",
    "from sklearn.metrics import mean_squared_error\n",
    "from sklearn.metrics import mean_absolute_percentage_error\n",
    "from sklearn.metrics import r2_score\n",
    "\n",
    "warnings.filterwarnings(\"ignore\")\n",
    "sns.set_theme()\n",
    "pd.set_option('display.max_rows', None)\n",
    "# import pycountry as pc\n",
    "# import matplotlib.ticker as mtick"
   ]
  },
  {
   "cell_type": "code",
   "execution_count": 2,
   "id": "560bdc90",
   "metadata": {},
   "outputs": [
    {
     "data": {
      "text/html": [
       "<div>\n",
       "<style scoped>\n",
       "    .dataframe tbody tr th:only-of-type {\n",
       "        vertical-align: middle;\n",
       "    }\n",
       "\n",
       "    .dataframe tbody tr th {\n",
       "        vertical-align: top;\n",
       "    }\n",
       "\n",
       "    .dataframe thead th {\n",
       "        text-align: right;\n",
       "    }\n",
       "</style>\n",
       "<table border=\"1\" class=\"dataframe\">\n",
       "  <thead>\n",
       "    <tr style=\"text-align: right;\">\n",
       "      <th></th>\n",
       "      <th>hotel</th>\n",
       "      <th>is_canceled</th>\n",
       "      <th>lead_time</th>\n",
       "      <th>arrival_date_year</th>\n",
       "      <th>arrival_date_month</th>\n",
       "      <th>arrival_date_week_number</th>\n",
       "      <th>arrival_date_day_of_month</th>\n",
       "      <th>stays_in_weekend_nights</th>\n",
       "      <th>stays_in_week_nights</th>\n",
       "      <th>adults</th>\n",
       "      <th>...</th>\n",
       "      <th>deposit_type</th>\n",
       "      <th>agent</th>\n",
       "      <th>company</th>\n",
       "      <th>days_in_waiting_list</th>\n",
       "      <th>customer_type</th>\n",
       "      <th>adr</th>\n",
       "      <th>required_car_parking_spaces</th>\n",
       "      <th>total_of_special_requests</th>\n",
       "      <th>reservation_status</th>\n",
       "      <th>reservation_status_date</th>\n",
       "    </tr>\n",
       "  </thead>\n",
       "  <tbody>\n",
       "    <tr>\n",
       "      <th>119385</th>\n",
       "      <td>City Hotel</td>\n",
       "      <td>0</td>\n",
       "      <td>23</td>\n",
       "      <td>2017</td>\n",
       "      <td>August</td>\n",
       "      <td>35</td>\n",
       "      <td>30</td>\n",
       "      <td>2</td>\n",
       "      <td>5</td>\n",
       "      <td>2</td>\n",
       "      <td>...</td>\n",
       "      <td>No Deposit</td>\n",
       "      <td>394.0</td>\n",
       "      <td>NaN</td>\n",
       "      <td>0</td>\n",
       "      <td>Transient</td>\n",
       "      <td>96.14</td>\n",
       "      <td>0</td>\n",
       "      <td>0</td>\n",
       "      <td>Check-Out</td>\n",
       "      <td>2017-09-06</td>\n",
       "    </tr>\n",
       "    <tr>\n",
       "      <th>119386</th>\n",
       "      <td>City Hotel</td>\n",
       "      <td>0</td>\n",
       "      <td>102</td>\n",
       "      <td>2017</td>\n",
       "      <td>August</td>\n",
       "      <td>35</td>\n",
       "      <td>31</td>\n",
       "      <td>2</td>\n",
       "      <td>5</td>\n",
       "      <td>3</td>\n",
       "      <td>...</td>\n",
       "      <td>No Deposit</td>\n",
       "      <td>9.0</td>\n",
       "      <td>NaN</td>\n",
       "      <td>0</td>\n",
       "      <td>Transient</td>\n",
       "      <td>225.43</td>\n",
       "      <td>0</td>\n",
       "      <td>2</td>\n",
       "      <td>Check-Out</td>\n",
       "      <td>2017-09-07</td>\n",
       "    </tr>\n",
       "    <tr>\n",
       "      <th>119387</th>\n",
       "      <td>City Hotel</td>\n",
       "      <td>0</td>\n",
       "      <td>34</td>\n",
       "      <td>2017</td>\n",
       "      <td>August</td>\n",
       "      <td>35</td>\n",
       "      <td>31</td>\n",
       "      <td>2</td>\n",
       "      <td>5</td>\n",
       "      <td>2</td>\n",
       "      <td>...</td>\n",
       "      <td>No Deposit</td>\n",
       "      <td>9.0</td>\n",
       "      <td>NaN</td>\n",
       "      <td>0</td>\n",
       "      <td>Transient</td>\n",
       "      <td>157.71</td>\n",
       "      <td>0</td>\n",
       "      <td>4</td>\n",
       "      <td>Check-Out</td>\n",
       "      <td>2017-09-07</td>\n",
       "    </tr>\n",
       "    <tr>\n",
       "      <th>119388</th>\n",
       "      <td>City Hotel</td>\n",
       "      <td>0</td>\n",
       "      <td>109</td>\n",
       "      <td>2017</td>\n",
       "      <td>August</td>\n",
       "      <td>35</td>\n",
       "      <td>31</td>\n",
       "      <td>2</td>\n",
       "      <td>5</td>\n",
       "      <td>2</td>\n",
       "      <td>...</td>\n",
       "      <td>No Deposit</td>\n",
       "      <td>89.0</td>\n",
       "      <td>NaN</td>\n",
       "      <td>0</td>\n",
       "      <td>Transient</td>\n",
       "      <td>104.40</td>\n",
       "      <td>0</td>\n",
       "      <td>0</td>\n",
       "      <td>Check-Out</td>\n",
       "      <td>2017-09-07</td>\n",
       "    </tr>\n",
       "    <tr>\n",
       "      <th>119389</th>\n",
       "      <td>City Hotel</td>\n",
       "      <td>0</td>\n",
       "      <td>205</td>\n",
       "      <td>2017</td>\n",
       "      <td>August</td>\n",
       "      <td>35</td>\n",
       "      <td>29</td>\n",
       "      <td>2</td>\n",
       "      <td>7</td>\n",
       "      <td>2</td>\n",
       "      <td>...</td>\n",
       "      <td>No Deposit</td>\n",
       "      <td>9.0</td>\n",
       "      <td>NaN</td>\n",
       "      <td>0</td>\n",
       "      <td>Transient</td>\n",
       "      <td>151.20</td>\n",
       "      <td>0</td>\n",
       "      <td>2</td>\n",
       "      <td>Check-Out</td>\n",
       "      <td>2017-09-07</td>\n",
       "    </tr>\n",
       "  </tbody>\n",
       "</table>\n",
       "<p>5 rows × 32 columns</p>\n",
       "</div>"
      ],
      "text/plain": [
       "             hotel  is_canceled  lead_time  arrival_date_year  \\\n",
       "119385  City Hotel            0         23               2017   \n",
       "119386  City Hotel            0        102               2017   \n",
       "119387  City Hotel            0         34               2017   \n",
       "119388  City Hotel            0        109               2017   \n",
       "119389  City Hotel            0        205               2017   \n",
       "\n",
       "       arrival_date_month  arrival_date_week_number  \\\n",
       "119385             August                        35   \n",
       "119386             August                        35   \n",
       "119387             August                        35   \n",
       "119388             August                        35   \n",
       "119389             August                        35   \n",
       "\n",
       "        arrival_date_day_of_month  stays_in_weekend_nights  \\\n",
       "119385                         30                        2   \n",
       "119386                         31                        2   \n",
       "119387                         31                        2   \n",
       "119388                         31                        2   \n",
       "119389                         29                        2   \n",
       "\n",
       "        stays_in_week_nights  adults  ...  deposit_type  agent company  \\\n",
       "119385                     5       2  ...    No Deposit  394.0     NaN   \n",
       "119386                     5       3  ...    No Deposit    9.0     NaN   \n",
       "119387                     5       2  ...    No Deposit    9.0     NaN   \n",
       "119388                     5       2  ...    No Deposit   89.0     NaN   \n",
       "119389                     7       2  ...    No Deposit    9.0     NaN   \n",
       "\n",
       "       days_in_waiting_list customer_type     adr  \\\n",
       "119385                    0     Transient   96.14   \n",
       "119386                    0     Transient  225.43   \n",
       "119387                    0     Transient  157.71   \n",
       "119388                    0     Transient  104.40   \n",
       "119389                    0     Transient  151.20   \n",
       "\n",
       "        required_car_parking_spaces  total_of_special_requests  \\\n",
       "119385                            0                          0   \n",
       "119386                            0                          2   \n",
       "119387                            0                          4   \n",
       "119388                            0                          0   \n",
       "119389                            0                          2   \n",
       "\n",
       "        reservation_status reservation_status_date  \n",
       "119385           Check-Out              2017-09-06  \n",
       "119386           Check-Out              2017-09-07  \n",
       "119387           Check-Out              2017-09-07  \n",
       "119388           Check-Out              2017-09-07  \n",
       "119389           Check-Out              2017-09-07  \n",
       "\n",
       "[5 rows x 32 columns]"
      ]
     },
     "execution_count": 2,
     "metadata": {},
     "output_type": "execute_result"
    }
   ],
   "source": [
    "## Data Ingestion\n",
    "data = pd.read_csv('hotel_bookings.csv', parse_dates=['reservation_status_date'])\n",
    "\n",
    "## Show the 5 rows of the dataset\n",
    "data.tail()"
   ]
  },
  {
   "cell_type": "markdown",
   "id": "29099cf6",
   "metadata": {},
   "source": [
    "---"
   ]
  },
  {
   "cell_type": "markdown",
   "id": "c190646b",
   "metadata": {},
   "source": [
    "After going through with the [original dataset documentation](https://www.sciencedirect.com/science/article/pii/S2352340918315191) , I tabulated the information into the following table:"
   ]
  },
  {
   "cell_type": "markdown",
   "id": "d72355b5",
   "metadata": {},
   "source": [
    "**<center> Table 1: Variables description </center>**"
   ]
  },
  {
   "cell_type": "markdown",
   "id": "f5ba445d",
   "metadata": {},
   "source": [
    "| Attribute | Description | Notes | Data Type |\n",
    "| --- | --- | --- | --- |\n",
    "| **hotel** | Hotel Type | Resort Hotel <br> City Hotel | Categorical |\n",
    "| **is_canceled** | Value indicating if the booking was canceled | (1) is cancelled <br> (0) is not cancelled | Categorical |\n",
    "| **lead_time** | Number of days that elapsed between the entering date of the booking into the PMS and the arrival date | - | Integer |\n",
    "| **arrival_date_year** | Year of arrival date | - | Integer |\n",
    "| **arrival_date_month** | Month of arrival date with 12 categories | “January” to “December” | Categorical |\n",
    "| **arrival_date_week_number** | Week number of the arrival date | - | Integer |\n",
    "| **arrival_date_day_of_month** | Day of the month of the arrival date | - | Integer |\n",
    "| **stays_in_weekend_nights** | Number of weekend nights (Saturday or Sunday) the guest stayed or booked to stay at the hotel | - | Integer |\n",
    "| **stays_in_week_nights** | Number of week nights (Monday to Friday) the guest stayed or booked to stay at the hotel | - | Integer |\n",
    "| **adults** | Number of adults | - | Integer |\n",
    "| **children** | Number of children | - | Integer |\n",
    "| **babies** | Number of babies | - | Integer |\n",
    "| **meal** | Type of meal booked. Categories are presented in standard hospitality meal packages | Undefined/SC – no meal package <br> BB – Bed & Breakfast  <br> HB – Half board (breakfast and one other meal – usually dinner) <br> FB – Full board (breakfast, lunch and dinner) | Categorical |\n",
    "| **country** | Country of origin. Categories are represented in the ISO 3155–3:2013 format | - | Categorical |\n",
    "| **market_segment** | Market segment designation | “TA” =  “Travel Agents” <br> “TO” = “Tour Operators” | Categorical |\n",
    "| **distribution_channel** | Booking distribution channel | “TA” = “Travel Agents” <br> “TO” means “Tour Operators” | Categorical |\n",
    "| **is_repeated_guest** | Value indicating if the booking name was from a repeated guest | (1) is repeated <br> (0) is not repeated | Categorical |\n",
    "| **previous_cancellations** | Number of previous bookings that were cancelled by the customer prior to the current booking | - | Integer |\n",
    "| **previous_bookings_not_canceled** | Number of previous bookings not cancelled by the customer prior to the current booking | - | Integer |\n",
    "| **reserved_room_type** | Code of room type reserved | Code is presented instead of designation for anonymity reasons | Categorical |\n",
    "| **assigned_room_type** | Code for the type of room assigned to the booking | Sometimes the assigned room type differs from the reserved room type due to hotel operation reasons (e.g. overbooking) or by customer request. Code is presented instead of designation for anonymity reasons | Categorical |\n",
    "| **booking_changes** | Number of changes/amendments made to the booking from the moment the booking was entered on the PMS until the moment of check-in or cancellation | - | Integer |\n",
    "| **deposit_type** | Indication on if the customer made a deposit to guarantee the booking. This variable can assume three categories | No Deposit – no deposit was made <br> Non Refund – a deposit was made in the value of the total stay cost <br> Refundable – a deposit was made with a value under the total cost of stay <br> | Categorical |\n",
    "| **agent** | ID of the travel agency that made the booking | - | Categorical |\n",
    "| **company** | ID of the company/entity that made the booking or responsible for paying the booking | ID is presented instead of designation for anonymity reasons | Categorical |\n",
    "| **days_in_waiting_list** | Number of days the booking was in the waiting list before it was confirmed to the customer | - | Integer |\n",
    "| **customer_type** | Type of booking, assuming one of four categories | Contract - when the booking has an allotment or other type of contract associated to it <br> Group – when the booking is associated to a group <br> Transient – when the booking is not part of a group or contract, and is not associated to other transient booking <br> Transient-party – when the booking is transient, but is associated to at least other transient booking <br> | Categorical |\n",
    "| **adr** | Average Daily Rate | - | Numeric |\n",
    "| **required_car_parking_spaces** | Number of car parking spaces required by the customer | - | Integer |\n",
    "| **total_of_special_requests** | Number of special requests made by the customer (e.g. twin bed or high floor) | - | Integer |\n",
    "| **reservation_status** | Reservation last status, assuming one of three categories | Canceled – booking was canceled by the customer <br> Check-Out – customer has checked in but already departed <br> No-Show – customer did not check-in and did inform the hotel of the reason why <br> | Categorical |\n",
    "| **reservation_status_date** | Date at which the last status was set | This variable can be used in conjunction with the ReservationStatus to understand when was the booking canceled or when did the customer checked-out of the hotel | Date |"
   ]
  },
  {
   "cell_type": "markdown",
   "id": "6c6c065e",
   "metadata": {},
   "source": [
    "<br>\n",
    "Hence, all data preprocessing will be performed by referring to the table above"
   ]
  },
  {
   "cell_type": "markdown",
   "id": "c631e80c",
   "metadata": {},
   "source": [
    "---"
   ]
  },
  {
   "cell_type": "markdown",
   "id": "b05a8c52",
   "metadata": {},
   "source": [
    "# 1) Data Exploration"
   ]
  },
  {
   "cell_type": "markdown",
   "id": "47962640",
   "metadata": {},
   "source": [
    "Lets explore the dataset"
   ]
  },
  {
   "cell_type": "code",
   "execution_count": 3,
   "id": "b915e522",
   "metadata": {},
   "outputs": [
    {
     "name": "stdout",
     "output_type": "stream",
     "text": [
      "<class 'pandas.core.frame.DataFrame'>\n",
      "RangeIndex: 119390 entries, 0 to 119389\n",
      "Data columns (total 32 columns):\n",
      " #   Column                          Non-Null Count   Dtype         \n",
      "---  ------                          --------------   -----         \n",
      " 0   hotel                           119390 non-null  object        \n",
      " 1   is_canceled                     119390 non-null  int64         \n",
      " 2   lead_time                       119390 non-null  int64         \n",
      " 3   arrival_date_year               119390 non-null  int64         \n",
      " 4   arrival_date_month              119390 non-null  object        \n",
      " 5   arrival_date_week_number        119390 non-null  int64         \n",
      " 6   arrival_date_day_of_month       119390 non-null  int64         \n",
      " 7   stays_in_weekend_nights         119390 non-null  int64         \n",
      " 8   stays_in_week_nights            119390 non-null  int64         \n",
      " 9   adults                          119390 non-null  int64         \n",
      " 10  children                        119386 non-null  float64       \n",
      " 11  babies                          119390 non-null  int64         \n",
      " 12  meal                            119390 non-null  object        \n",
      " 13  country                         118902 non-null  object        \n",
      " 14  market_segment                  119390 non-null  object        \n",
      " 15  distribution_channel            119390 non-null  object        \n",
      " 16  is_repeated_guest               119390 non-null  int64         \n",
      " 17  previous_cancellations          119390 non-null  int64         \n",
      " 18  previous_bookings_not_canceled  119390 non-null  int64         \n",
      " 19  reserved_room_type              119390 non-null  object        \n",
      " 20  assigned_room_type              119390 non-null  object        \n",
      " 21  booking_changes                 119390 non-null  int64         \n",
      " 22  deposit_type                    119390 non-null  object        \n",
      " 23  agent                           103050 non-null  float64       \n",
      " 24  company                         6797 non-null    float64       \n",
      " 25  days_in_waiting_list            119390 non-null  int64         \n",
      " 26  customer_type                   119390 non-null  object        \n",
      " 27  adr                             119390 non-null  float64       \n",
      " 28  required_car_parking_spaces     119390 non-null  int64         \n",
      " 29  total_of_special_requests       119390 non-null  int64         \n",
      " 30  reservation_status              119390 non-null  object        \n",
      " 31  reservation_status_date         119390 non-null  datetime64[ns]\n",
      "dtypes: datetime64[ns](1), float64(4), int64(16), object(11)\n",
      "memory usage: 29.1+ MB\n"
     ]
    }
   ],
   "source": [
    "data.info()"
   ]
  },
  {
   "cell_type": "markdown",
   "id": "8f58fd3e",
   "metadata": {},
   "source": [
    "---"
   ]
  },
  {
   "cell_type": "markdown",
   "id": "b3b6debe",
   "metadata": {},
   "source": [
    "From this code, I found out that there 1 datetime attribute, 4 float attributes, 16 integer attributes, and 11 categorical attributes. This is slightly different with data type in Table 1. After data preprocessing (Section 2.2), we will observe this again later"
   ]
  },
  {
   "cell_type": "markdown",
   "id": "489c475e",
   "metadata": {},
   "source": [
    "---"
   ]
  },
  {
   "cell_type": "markdown",
   "id": "3645df08",
   "metadata": {},
   "source": [
    "# 2) Descriptive analytics"
   ]
  },
  {
   "cell_type": "markdown",
   "id": "e92565e0",
   "metadata": {},
   "source": [
    "### Q1. Provide various descriptive analytics and insights\n",
    "- To perform descriptive analytics, I will analyze dataset distribution"
   ]
  },
  {
   "cell_type": "markdown",
   "id": "4008f5c9",
   "metadata": {},
   "source": [
    "## 2.1) Dataset Distribution & Insights"
   ]
  },
  {
   "cell_type": "code",
   "execution_count": 4,
   "id": "10f68184",
   "metadata": {},
   "outputs": [
    {
     "data": {
      "application/vnd.jupyter.widget-view+json": {
       "model_id": "992cd51a0dac414781ff3b754ac5c0ed",
       "version_major": 2,
       "version_minor": 0
      },
      "text/plain": [
       "interactive(children=(Dropdown(description='Attribute', options=('hotel', 'is_canceled', 'lead_time', 'arrival…"
      ]
     },
     "metadata": {},
     "output_type": "display_data"
    }
   ],
   "source": [
    "@interact\n",
    "def plot_dist(Attribute=data.columns.tolist()[:-1]):     \n",
    "    sns.displot(data, x=Attribute,  hue='customer_type',col=\"hotel\", kind=\"hist\",multiple=\"stack\").set_xticklabels(rotation=45) \n",
    "    print(data.groupby([\"hotel\"])[Attribute].value_counts())"
   ]
  },
  {
   "cell_type": "markdown",
   "id": "c76c3fdf",
   "metadata": {},
   "source": [
    "From the dataset distribution, I found out that for each attribute:\n",
    "1) **hotel** = City hotel is booked more than Resort hotel \n",
    "2) **is_canceled** = Most booking are not cancelled, however cancelled booking are quite a lot too\n",
    "3) **lead_time** = Most booking are done near or on the date of arrival and most of them are transient customer\n",
    "4) **arrival_date_year** = customer arrived for the booking increased from 2015 until 2016 and slightly decreased on 2017\n",
    "5) **arrival_date_month** = customer arrived for the booking are the highest during Summer season, and lowest during Winter season\n",
    "6) **arrival_date_week_number** = People arrived for the booking are the highest on week 33 and lowest on week 52\n",
    "7) **arrival_date_day_of_month** = Most customer arrived for the booking in the middle of the month\n",
    "8) **stays_in_weekend_nights** = Most customer do not stay on weekend nights, but the are some people who would stay for 1-2 days. \n",
    "9) **stays_in_week_nights** = People tend to stay mostly for 2 days during weekdays for City Hotel, while for Resort Hotel, people mostly stay for 1 until 3 days.\n",
    "10) **adults** = Most people booking for 2 adults (probably newlyweds, or retirees), or 1 adult (probably single or a traveler)\n",
    "11) **children** = Most customer did not bring any child for the hotel booking\n",
    "12) **babies** = Most customer did not bring any baby for the hotel booking\n",
    "13) **meal** = Most customer booked for BB (Bed & Breakfast) followed by  HB (Half board) and SC (no meal package)\n",
    "14) **country** = For City Hotel most people who booked are from Portugal, France, and Germany. Meanwhile for Resort Hotel, Most people who booked are from Portugal, United Kingdom, and Spain.\n",
    "15) **market_segment** = Most customer booked using Online Tour Agent, Offline Tour Agent, and Tour Operators. Nowadays, people rarely use complementary market segment for hotel booking\n",
    "16) **distribution_channel** = Most customer booked using Tour Agents, and Tour Operators, followed by Direct bookings and Corporate booking\n",
    "17) **is_repeated_guest** = Most of the bookings are by non-repeated guests. Less than 5% of them are repeated guests.\n",
    "18) **previous_cancellations** = Most customer did not cancel their previous booking prior to the current booking. Less than 3% of them cancelled their bookings prior to the current booking.\n",
    "19) **previous_bookings_not_canceled** = Most customer did not cancel their previous booking prior to the current booking. Less than 3% of them cancelled their bookings prior to the current booking.\n",
    "20) **reserved_room_type** = Customers mostly in favour for room type A, followed by D and others for both hotels\n",
    "21) **assigned_room_type** = In the booking, most customers are assigned for room type A, followed by D and others for both hotels\n",
    "22) **booking_changes** = Most booking did not make any booking changes. Only 20% of them does\n",
    "23) **deposit_type** = Most people booking for no deposit, while some booking for non-refundable deposit. It is rare for customer to book for refundable deposit.\n",
    "24) **agent** = Most customers used Agent ID no 9 for City Hotel booking and Agent ID No 240 for Resort Hotel booking\n",
    "25) **company** = Most customers used Company ID no 40 for City Hotel booking and Company ID No 223 for Resort Hotel booking\n",
    "26) **days_in_waiting_list** = Most customers who booked are not in waiting list. Less than 5% of them are from waiting list\n",
    "27) **customer_type** = Most customers are transient who are usually walk-in guests, last minute or bookers or simply people that require a very short term stay in the hotel\n",
    "28) **required_car_parking_spaces** = Most customers did not require parking spaces. Less than 2% requires parking spaces.\n",
    "29) **total_special_requests** = Most customers did not have special request. However those who have special request quite a lot too\n",
    "30) **reservation_status** = City hotel has more checkout reservation status than Resort hotel. However, City Hotel also has the most cancellation reservation status than Resort hotel. "
   ]
  },
  {
   "cell_type": "markdown",
   "id": "6396012d",
   "metadata": {},
   "source": [
    "## 2.2) Preprocessing Dataset"
   ]
  },
  {
   "cell_type": "code",
   "execution_count": 5,
   "id": "344b3300",
   "metadata": {},
   "outputs": [],
   "source": [
    "## Copy the dataset\n",
    "df = data.copy()"
   ]
  },
  {
   "cell_type": "markdown",
   "id": "61b73433",
   "metadata": {},
   "source": [
    "### 2.2.1) Handling rows with missing values\n",
    "First, lets determine how much the missing values are"
   ]
  },
  {
   "cell_type": "code",
   "execution_count": 6,
   "id": "acb7f1b4",
   "metadata": {},
   "outputs": [
    {
     "name": "stdout",
     "output_type": "stream",
     "text": [
      "<class 'pandas.core.frame.DataFrame'>\n",
      "RangeIndex: 119390 entries, 0 to 119389\n",
      "Data columns (total 32 columns):\n",
      " #   Column                          Non-Null Count   Dtype         \n",
      "---  ------                          --------------   -----         \n",
      " 0   hotel                           119390 non-null  object        \n",
      " 1   is_canceled                     119390 non-null  int64         \n",
      " 2   lead_time                       119390 non-null  int64         \n",
      " 3   arrival_date_year               119390 non-null  int64         \n",
      " 4   arrival_date_month              119390 non-null  object        \n",
      " 5   arrival_date_week_number        119390 non-null  int64         \n",
      " 6   arrival_date_day_of_month       119390 non-null  int64         \n",
      " 7   stays_in_weekend_nights         119390 non-null  int64         \n",
      " 8   stays_in_week_nights            119390 non-null  int64         \n",
      " 9   adults                          119390 non-null  int64         \n",
      " 10  children                        119386 non-null  float64       \n",
      " 11  babies                          119390 non-null  int64         \n",
      " 12  meal                            119390 non-null  object        \n",
      " 13  country                         118902 non-null  object        \n",
      " 14  market_segment                  119390 non-null  object        \n",
      " 15  distribution_channel            119390 non-null  object        \n",
      " 16  is_repeated_guest               119390 non-null  int64         \n",
      " 17  previous_cancellations          119390 non-null  int64         \n",
      " 18  previous_bookings_not_canceled  119390 non-null  int64         \n",
      " 19  reserved_room_type              119390 non-null  object        \n",
      " 20  assigned_room_type              119390 non-null  object        \n",
      " 21  booking_changes                 119390 non-null  int64         \n",
      " 22  deposit_type                    119390 non-null  object        \n",
      " 23  agent                           103050 non-null  float64       \n",
      " 24  company                         6797 non-null    float64       \n",
      " 25  days_in_waiting_list            119390 non-null  int64         \n",
      " 26  customer_type                   119390 non-null  object        \n",
      " 27  adr                             119390 non-null  float64       \n",
      " 28  required_car_parking_spaces     119390 non-null  int64         \n",
      " 29  total_of_special_requests       119390 non-null  int64         \n",
      " 30  reservation_status              119390 non-null  object        \n",
      " 31  reservation_status_date         119390 non-null  datetime64[ns]\n",
      "dtypes: datetime64[ns](1), float64(4), int64(16), object(11)\n",
      "memory usage: 29.1+ MB\n"
     ]
    }
   ],
   "source": [
    "df.info()"
   ]
  },
  {
   "cell_type": "markdown",
   "id": "597606b5",
   "metadata": {},
   "source": [
    "---"
   ]
  },
  {
   "cell_type": "markdown",
   "id": "276fa7fa",
   "metadata": {},
   "source": [
    "From this output, it seems that there are no missing values, lets try another method"
   ]
  },
  {
   "cell_type": "markdown",
   "id": "cc15ca2f",
   "metadata": {},
   "source": [
    "---"
   ]
  },
  {
   "cell_type": "code",
   "execution_count": 7,
   "id": "7e520dad",
   "metadata": {},
   "outputs": [
    {
     "data": {
      "text/plain": [
       "company                           112593\n",
       "agent                              16340\n",
       "country                              488\n",
       "children                               4\n",
       "reserved_room_type                     0\n",
       "assigned_room_type                     0\n",
       "booking_changes                        0\n",
       "deposit_type                           0\n",
       "hotel                                  0\n",
       "previous_cancellations                 0\n",
       "days_in_waiting_list                   0\n",
       "customer_type                          0\n",
       "adr                                    0\n",
       "required_car_parking_spaces            0\n",
       "total_of_special_requests              0\n",
       "reservation_status                     0\n",
       "previous_bookings_not_canceled         0\n",
       "is_repeated_guest                      0\n",
       "is_canceled                            0\n",
       "distribution_channel                   0\n",
       "market_segment                         0\n",
       "meal                                   0\n",
       "babies                                 0\n",
       "adults                                 0\n",
       "stays_in_week_nights                   0\n",
       "stays_in_weekend_nights                0\n",
       "arrival_date_day_of_month              0\n",
       "arrival_date_week_number               0\n",
       "arrival_date_month                     0\n",
       "arrival_date_year                      0\n",
       "lead_time                              0\n",
       "reservation_status_date                0\n",
       "dtype: int64"
      ]
     },
     "execution_count": 7,
     "metadata": {},
     "output_type": "execute_result"
    }
   ],
   "source": [
    "df.isnull().sum().sort_values(ascending=False)"
   ]
  },
  {
   "cell_type": "markdown",
   "id": "16de240f",
   "metadata": {},
   "source": [
    "----"
   ]
  },
  {
   "cell_type": "markdown",
   "id": "01f0e472",
   "metadata": {},
   "source": [
    "From here, it is determined that there are 4 columns with missing values which are **\"company\"**, **\"agent\"**, **\"country\"**, and **\"children\"**."
   ]
  },
  {
   "cell_type": "markdown",
   "id": "7b589bdb",
   "metadata": {},
   "source": [
    "By referring to Table 1, the preprocessing for those columns are done as follows:<br>1) **company** and **agent** attributes → I replaced the missing values with zeros. (*because they are company ids and agents ids, thus 0 means undefined company id and agent id*)<br>2) **children** attribute → I replaced all the missing values with the mode value. (*because most of customers did not bring any children*)<br>3) **country** attribute →  I replaced all the missing values with the mode value (*because most of customers' countries of origin are from Portugal*)"
   ]
  },
  {
   "cell_type": "markdown",
   "id": "de4fc93b",
   "metadata": {},
   "source": [
    "---"
   ]
  },
  {
   "cell_type": "code",
   "execution_count": 8,
   "id": "4424c644",
   "metadata": {},
   "outputs": [],
   "source": [
    "df[['agent','company']] = df[['agent','company']].fillna(0)"
   ]
  },
  {
   "cell_type": "markdown",
   "id": "7052b216",
   "metadata": {},
   "source": [
    "---"
   ]
  },
  {
   "cell_type": "markdown",
   "id": "b935fd99",
   "metadata": {},
   "source": [
    "Children column contains the count of children, so I replaced all the missing values with the rounded mean value.\n",
    "And our country column contains country codes representing different countries. It is a categorical feature so I will also replace it with the mode value. The mode value is the value that appears more than any other value. So, in this case, I am replacing it with the country that appears the most often."
   ]
  },
  {
   "cell_type": "markdown",
   "id": "772fb2b3",
   "metadata": {},
   "source": [
    "---"
   ]
  },
  {
   "cell_type": "code",
   "execution_count": 9,
   "id": "656ad83d",
   "metadata": {},
   "outputs": [
    {
     "data": {
      "text/plain": [
       "hotel                             0\n",
       "is_canceled                       0\n",
       "reservation_status                0\n",
       "total_of_special_requests         0\n",
       "required_car_parking_spaces       0\n",
       "adr                               0\n",
       "customer_type                     0\n",
       "days_in_waiting_list              0\n",
       "company                           0\n",
       "agent                             0\n",
       "deposit_type                      0\n",
       "booking_changes                   0\n",
       "assigned_room_type                0\n",
       "reserved_room_type                0\n",
       "previous_bookings_not_canceled    0\n",
       "previous_cancellations            0\n",
       "is_repeated_guest                 0\n",
       "distribution_channel              0\n",
       "market_segment                    0\n",
       "country                           0\n",
       "meal                              0\n",
       "babies                            0\n",
       "children                          0\n",
       "adults                            0\n",
       "stays_in_week_nights              0\n",
       "stays_in_weekend_nights           0\n",
       "arrival_date_day_of_month         0\n",
       "arrival_date_week_number          0\n",
       "arrival_date_month                0\n",
       "arrival_date_year                 0\n",
       "lead_time                         0\n",
       "reservation_status_date           0\n",
       "dtype: int64"
      ]
     },
     "execution_count": 9,
     "metadata": {},
     "output_type": "execute_result"
    }
   ],
   "source": [
    "## For the missing values in the country column, replace it with mode (value that appears most often)\n",
    "df['country'] = df['country'].fillna(df.country.mode()[0])\n",
    "\n",
    "\n",
    "## for missing children value, replace it with mode (value that appears most often)\n",
    "df['children'] = df['children'].fillna(df.children.mode()[0])\n",
    "\n",
    "## check missing values again\n",
    "df.isnull().sum().sort_values(ascending=False)"
   ]
  },
  {
   "cell_type": "markdown",
   "id": "029a0f3f",
   "metadata": {},
   "source": [
    "---"
   ]
  },
  {
   "cell_type": "markdown",
   "id": "db9deab4",
   "metadata": {},
   "source": [
    "There they are, no more missing values. Let's convert all data types"
   ]
  },
  {
   "cell_type": "markdown",
   "id": "851644b4",
   "metadata": {},
   "source": [
    "---"
   ]
  },
  {
   "cell_type": "markdown",
   "id": "d61f0bb8",
   "metadata": {},
   "source": [
    "### 2.2.2) Converting data types"
   ]
  },
  {
   "cell_type": "markdown",
   "id": "099752cb",
   "metadata": {},
   "source": [
    "Lets convert all data types based on data type defined in Table 1"
   ]
  },
  {
   "cell_type": "markdown",
   "id": "2da9084d",
   "metadata": {},
   "source": [
    "---"
   ]
  },
  {
   "cell_type": "code",
   "execution_count": 10,
   "id": "c52732d8",
   "metadata": {},
   "outputs": [
    {
     "name": "stdout",
     "output_type": "stream",
     "text": [
      "<class 'pandas.core.frame.DataFrame'>\n",
      "RangeIndex: 119390 entries, 0 to 119389\n",
      "Data columns (total 32 columns):\n",
      " #   Column                          Non-Null Count   Dtype         \n",
      "---  ------                          --------------   -----         \n",
      " 0   hotel                           119390 non-null  category      \n",
      " 1   is_canceled                     119390 non-null  category      \n",
      " 2   lead_time                       119390 non-null  int64         \n",
      " 3   arrival_date_year               119390 non-null  category      \n",
      " 4   arrival_date_month              119390 non-null  category      \n",
      " 5   arrival_date_week_number        119390 non-null  int64         \n",
      " 6   arrival_date_day_of_month       119390 non-null  int64         \n",
      " 7   stays_in_weekend_nights         119390 non-null  int64         \n",
      " 8   stays_in_week_nights            119390 non-null  int64         \n",
      " 9   adults                          119390 non-null  int64         \n",
      " 10  children                        119390 non-null  int64         \n",
      " 11  babies                          119390 non-null  int64         \n",
      " 12  meal                            119390 non-null  category      \n",
      " 13  country                         119390 non-null  category      \n",
      " 14  market_segment                  119390 non-null  category      \n",
      " 15  distribution_channel            119390 non-null  category      \n",
      " 16  is_repeated_guest               119390 non-null  category      \n",
      " 17  previous_cancellations          119390 non-null  int64         \n",
      " 18  previous_bookings_not_canceled  119390 non-null  int64         \n",
      " 19  reserved_room_type              119390 non-null  category      \n",
      " 20  assigned_room_type              119390 non-null  category      \n",
      " 21  booking_changes                 119390 non-null  int64         \n",
      " 22  deposit_type                    119390 non-null  category      \n",
      " 23  agent                           119390 non-null  category      \n",
      " 24  company                         119390 non-null  category      \n",
      " 25  days_in_waiting_list            119390 non-null  int64         \n",
      " 26  customer_type                   119390 non-null  category      \n",
      " 27  adr                             119390 non-null  float64       \n",
      " 28  required_car_parking_spaces     119390 non-null  int64         \n",
      " 29  total_of_special_requests       119390 non-null  int64         \n",
      " 30  reservation_status              119390 non-null  category      \n",
      " 31  reservation_status_date         119390 non-null  datetime64[ns]\n",
      "dtypes: category(16), datetime64[ns](1), float64(1), int64(14)\n",
      "memory usage: 16.8 MB\n"
     ]
    }
   ],
   "source": [
    "dtype= {'hotel':'category', \n",
    "        'is_canceled':'category', \n",
    "        'lead_time':'int64', \n",
    "        'arrival_date_year':'category',\n",
    "        'arrival_date_month':'category', \n",
    "        'arrival_date_week_number':'int64',\n",
    "        'arrival_date_day_of_month':'int64', \n",
    "        'stays_in_weekend_nights':'int64',\n",
    "        'stays_in_week_nights':'int64', \n",
    "        'adults':'int64', \n",
    "        'children':'int64', \n",
    "        'babies':'int64', \n",
    "        'meal':'category',\n",
    "        'country':'category', \n",
    "        'market_segment':'category', \n",
    "        'distribution_channel':'category',\n",
    "        'is_repeated_guest':'category', \n",
    "        'previous_cancellations':'int64',\n",
    "        'previous_bookings_not_canceled':'int64', \n",
    "        'reserved_room_type':'category',\n",
    "        'assigned_room_type':'category', \n",
    "        'booking_changes':'int64', \n",
    "        'deposit_type':'category', \n",
    "        'agent':'category',\n",
    "        'company':'category', \n",
    "        'days_in_waiting_list':'int64', \n",
    "        'customer_type':'category', \n",
    "        'adr':'float',\n",
    "        'required_car_parking_spaces':'int64', \n",
    "        'total_of_special_requests':'int64',\n",
    "        'reservation_status':'category', \n",
    "        'reservation_status_date':'datetime64[ns]'}\n",
    "df_clean = df.astype(dtype)\n",
    "df_clean.info()"
   ]
  },
  {
   "cell_type": "markdown",
   "id": "2a6394e5",
   "metadata": {},
   "source": [
    "---"
   ]
  },
  {
   "cell_type": "markdown",
   "id": "575c6372",
   "metadata": {},
   "source": [
    "There they are, all data types have been converted based their original data types defined in Table 1. After we have done with Descriptive Analytics, let's proceed for Data Science Use Cases"
   ]
  },
  {
   "cell_type": "markdown",
   "id": "f6960816",
   "metadata": {},
   "source": [
    "---"
   ]
  },
  {
   "cell_type": "markdown",
   "id": "9220a2f5",
   "metadata": {},
   "source": [
    "# 3) Data Science Use Cases (For Hotel Owner)\n",
    "### Q2. Suggest the use cases suitable here from the perspective of the hotel owner?\n",
    "- To perform for the use cases, I will try to answer the following Questions"
   ]
  },
  {
   "cell_type": "markdown",
   "id": "06182d13",
   "metadata": {},
   "source": [
    "1) How Many Booking Were Cancelled?\n",
    "2) What is the booking ratio between Resort Hotel and City Hotel?\n",
    "3) What is the percentage of booking for each year?\n",
    "4) From which country most guests come?\n",
    "5) How Long People Stay in the hotel?\n"
   ]
  },
  {
   "cell_type": "markdown",
   "id": "734a4bdf",
   "metadata": {},
   "source": [
    "## 3.1) How Many Booking Were Cancelled?"
   ]
  },
  {
   "cell_type": "code",
   "execution_count": 11,
   "id": "44f801fa",
   "metadata": {},
   "outputs": [
    {
     "data": {
      "text/plain": [
       "[Text(0, 0, '74.8508'), Text(0, 0, '25.1492')]"
      ]
     },
     "execution_count": 11,
     "metadata": {},
     "output_type": "execute_result"
    },
    {
     "data": {
      "image/png": "[encoded data removed]",
      "text/plain": [
       "<Figure size 432x288 with 1 Axes>"
      ]
     },
     "metadata": {},
     "output_type": "display_data"
    }
   ],
   "source": [
    "df_agg = df_clean.groupby([\"hotel\"])['is_canceled'].value_counts().reset_index()\n",
    "df_agg['percentage (%)'] = 100 * df_agg['is_canceled'] / df_agg.groupby('level_1')['is_canceled'].transform('sum')\n",
    "df_agg.columns = ['hotel', 'is_canceled', 'count', 'percentage (%)']\n",
    "ax = sns.barplot(x='hotel',y='percentage (%)', hue='is_canceled',data=df_agg)\n",
    "ax.bar_label(ax.containers[0])\n",
    "ax.bar_label(ax.containers[1])"
   ]
  },
  {
   "cell_type": "markdown",
   "id": "6050ab0d",
   "metadata": {},
   "source": [
    "---"
   ]
  },
  {
   "cell_type": "markdown",
   "id": "d4d1bba5",
   "metadata": {},
   "source": [
    "From this code, I found out that 74% of customer canceled their booking for the City Hotel which is far higher than Resort Hotel (25%). Meanwhile the trend is also similar for non-cancellation whereby 62% of customer did not canceled their booking in comparison with Resort Hotel. This implies that customer is more attracted to City Hotel during booking, however they also have higher tendency to cancel their booking. Therefore, Resort hotel need to figure out of a strategy to attract customers to be at par with City Hotel. "
   ]
  },
  {
   "cell_type": "markdown",
   "id": "b4f07986",
   "metadata": {},
   "source": [
    "---"
   ]
  },
  {
   "cell_type": "markdown",
   "id": "4f92028c",
   "metadata": {},
   "source": [
    "## 3.2) What is the booking ratio between Resort Hotel and City Hotel?"
   ]
  },
  {
   "cell_type": "code",
   "execution_count": 12,
   "id": "948e0726",
   "metadata": {},
   "outputs": [
    {
     "data": {
      "text/plain": [
       "[Text(0, 0, '61.5012'), Text(0, 0, '38.4988')]"
      ]
     },
     "execution_count": 12,
     "metadata": {},
     "output_type": "execute_result"
    },
    {
     "data": {
      "image/png": "[encoded data removed]",
      "text/plain": [
       "<Figure size 432x288 with 1 Axes>"
      ]
     },
     "metadata": {},
     "output_type": "display_data"
    }
   ],
   "source": [
    "df_agg2 = df_clean[df_clean['is_canceled'] == 0]\n",
    "df_agg2 = df_agg2['hotel'].value_counts().reset_index()\n",
    "df_agg2['percentage (%)'] = 100 * df_agg2['hotel']/df_agg2['hotel'].sum()\n",
    "df_agg2.columns = ['hotel', 'count', 'percentage (%)']\n",
    "ax = sns.barplot(x='hotel',y='percentage (%)',data=df_agg2)\n",
    "ax.bar_label(ax.containers[0])"
   ]
  },
  {
   "cell_type": "markdown",
   "id": "c5f29911",
   "metadata": {},
   "source": [
    "---"
   ]
  },
  {
   "cell_type": "markdown",
   "id": "04c76b1b",
   "metadata": {},
   "source": [
    "From this output, I have determined that the booking ratio between Resort Hotel with City Hotel are 66% and 34% respectively. It seems that City Hotel is highly attractive to the customers for them to book more than Resort Hotel.  Therefore, Resort hotel need to figure out of a strategy to attract customers to be at par with City Hotel. "
   ]
  },
  {
   "cell_type": "markdown",
   "id": "b38b1fa7",
   "metadata": {},
   "source": [
    "---"
   ]
  },
  {
   "cell_type": "markdown",
   "id": "20eb5e0b",
   "metadata": {},
   "source": [
    "## 3.3) What is the percentage of booking for each year?"
   ]
  },
  {
   "cell_type": "code",
   "execution_count": 13,
   "id": "b99a6601",
   "metadata": {},
   "outputs": [
    {
     "data": {
      "text/plain": [
       "Text(0.5, 1.0, 'arrival_date_year by Hotel\\n')"
      ]
     },
     "execution_count": 13,
     "metadata": {},
     "output_type": "execute_result"
    },
    {
     "data": {
      "image/png": "[encoded data removed]",
      "text/plain": [
       "<Figure size 432x288 with 1 Axes>"
      ]
     },
     "metadata": {},
     "output_type": "display_data"
    }
   ],
   "source": [
    "df_agg3 = df_clean[df_clean['is_canceled'] == 0]\n",
    "df_agg3 = df_agg3.groupby([\"hotel\"])['arrival_date_year'].value_counts().reset_index()\n",
    "df_agg3['percentage (%)'] = 100 * df_agg3['arrival_date_year'] / df_agg3.groupby('level_1')['arrival_date_year'].transform('sum')\n",
    "df_agg3.columns = ['hotel', 'arrival_date_year', 'count', 'percentage (%)']\n",
    "ax = sns.barplot(x='arrival_date_year',y='percentage (%)', hue='hotel',data=df_agg3)\n",
    "ax.bar_label(ax.containers[0])\n",
    "ax.bar_label(ax.containers[1])\n",
    "plt.title('arrival_date_year by Hotel\\n')"
   ]
  },
  {
   "cell_type": "markdown",
   "id": "78130484",
   "metadata": {},
   "source": [
    "---"
   ]
  },
  {
   "cell_type": "markdown",
   "id": "c7234631",
   "metadata": {},
   "source": [
    "Based on the output above, I have determined that the percentage of booking for City Hotel is increasing by 55.4%, 62.5% and 63.4% respectively from 2015 until 2017. However, the percentage of booking for City Hotel is decreasing  by 44.6%, 37.5%, and 36.6% respectively. This shows people preference over the years towards City Hotel rather than Resort Hotel.  Therefore, Resort hotel need to figure out of a strategy to attract customers to be at par with City Hotel. "
   ]
  },
  {
   "cell_type": "markdown",
   "id": "14f5992a",
   "metadata": {},
   "source": [
    "---"
   ]
  },
  {
   "cell_type": "markdown",
   "id": "2be83ce4",
   "metadata": {},
   "source": [
    "## 3.4) From which country most guests come?"
   ]
  },
  {
   "cell_type": "code",
   "execution_count": 14,
   "id": "22d64c7e",
   "metadata": {},
   "outputs": [
    {
     "data": {
      "text/plain": [
       "<AxesSubplot:xlabel='percentage (%)', ylabel='country'>"
      ]
     },
     "execution_count": 14,
     "metadata": {},
     "output_type": "execute_result"
    },
    {
     "data": {
      "image/png": "[encoded data removed]",
      "text/plain": [
       "<Figure size 432x288 with 1 Axes>"
      ]
     },
     "metadata": {},
     "output_type": "display_data"
    }
   ],
   "source": [
    "df_agg5 = df_clean[df_clean['is_canceled'] == 0]\n",
    "df_agg5 = df_agg5['country'].value_counts().reset_index()\n",
    "df_agg5['percentage (%)'] = 100 * df_agg5['country'] / df_agg5['country'].sum()\n",
    "df_agg5.columns = ['country', 'count', 'percentage (%)']\n",
    "df_agg5 = df_agg5.sort_values(by=['percentage (%)'], ascending=False).head(10)\n",
    "sns.barplot(x='percentage (%)',y='country', data=df_agg5, order=df_agg5.sort_values(by=['percentage (%)'], ascending=False).country)"
   ]
  },
  {
   "cell_type": "markdown",
   "id": "6adacf58",
   "metadata": {},
   "source": [
    "---"
   ]
  },
  {
   "cell_type": "markdown",
   "id": "b8ef5b9c",
   "metadata": {},
   "source": [
    "Referring to this horizontal barchart, it is observed that almost 30% of guests came from Portugal (PRT), followed by United Kingdom (GBR), and France (FRA)."
   ]
  },
  {
   "cell_type": "markdown",
   "id": "62513977",
   "metadata": {},
   "source": [
    "---"
   ]
  },
  {
   "cell_type": "markdown",
   "id": "1fc3a899",
   "metadata": {},
   "source": [
    "## 3.5) How Long People Stay in the hotel?"
   ]
  },
  {
   "cell_type": "code",
   "execution_count": 15,
   "id": "88d63f54",
   "metadata": {},
   "outputs": [
    {
     "name": "stdout",
     "output_type": "stream",
     "text": [
      "hotel         stays_in_weekend_nights\n",
      "City Hotel    0                          21561\n",
      "              1                          12877\n",
      "              2                          11471\n",
      "              3                            173\n",
      "              4                            113\n",
      "              5                             17\n",
      "              6                              8\n",
      "              8                              2\n",
      "              9                              2\n",
      "              14                             2\n",
      "              13                             1\n",
      "              16                             1\n",
      "Resort Hotel  0                          10936\n",
      "              2                           9352\n",
      "              1                           6742\n",
      "              4                           1144\n",
      "              3                            642\n",
      "              6                             58\n",
      "              8                             24\n",
      "              5                             19\n",
      "Name: stays_in_weekend_nights, dtype: int64\n"
     ]
    },
    {
     "data": {
      "text/plain": [
       "<matplotlib.legend.Legend at 0x28d14fee520>"
      ]
     },
     "execution_count": 15,
     "metadata": {},
     "output_type": "execute_result"
    },
    {
     "data": {
      "image/png": "[encoded data removed]",
      "text/plain": [
       "<Figure size 432x288 with 1 Axes>"
      ]
     },
     "metadata": {},
     "output_type": "display_data"
    }
   ],
   "source": [
    "df_agg6 = df_clean[df_clean['is_canceled'] == 0]\n",
    "print(df_agg6.groupby(['hotel'])['stays_in_weekend_nights'].value_counts()[:20])\n",
    "sns.countplot(x='stays_in_weekend_nights', hue='hotel', data=df_agg6)\n",
    "plt.legend(loc='upper right')"
   ]
  },
  {
   "cell_type": "markdown",
   "id": "1ddeae9d",
   "metadata": {},
   "source": [
    "---"
   ]
  },
  {
   "cell_type": "markdown",
   "id": "791b716b",
   "metadata": {},
   "source": [
    "The above table and chart shows that City Hotel has guests that stay for longest time (by 16 nights), but they are very rare. Nonetheless, there are quite many people who stayed for long time in Resort hotel from 1 to 4 nights. This shows customer tend to stay longer in Resort hotel than City hotel.<br><br>After we have done with Data Science Use Cases (For Hotels), let's  proceed for Data Science Use Cases (For Guests)"
   ]
  },
  {
   "cell_type": "markdown",
   "id": "301990e8",
   "metadata": {},
   "source": [
    "---"
   ]
  },
  {
   "cell_type": "markdown",
   "id": "bfeea288",
   "metadata": {},
   "source": [
    "# 4) Data Science Use Cases (For Guest)\n",
    "### Q3. Suggest the use cases suitable here from the perspective of the guests?\n",
    "- To perform use cases, I will try to answer the following Questions"
   ]
  },
  {
   "cell_type": "markdown",
   "id": "474f64de",
   "metadata": {},
   "source": [
    "1) Which is the busiest month for hotels?\n",
    "2) Which was the most booked accommodation type (Single, Couple, Family)?"
   ]
  },
  {
   "cell_type": "markdown",
   "id": "118364cc",
   "metadata": {},
   "source": [
    "## 4.1) Which is the busiest month for hotels?"
   ]
  },
  {
   "cell_type": "code",
   "execution_count": 16,
   "id": "393793ad",
   "metadata": {},
   "outputs": [
    {
     "data": {
      "text/plain": [
       "([0, 1, 2, 3, 4, 5, 6, 7, 8, 9, 10, 11],\n",
       " [Text(0, 0, ''),\n",
       "  Text(0, 0, ''),\n",
       "  Text(0, 0, ''),\n",
       "  Text(0, 0, ''),\n",
       "  Text(0, 0, ''),\n",
       "  Text(0, 0, ''),\n",
       "  Text(0, 0, ''),\n",
       "  Text(0, 0, ''),\n",
       "  Text(0, 0, ''),\n",
       "  Text(0, 0, ''),\n",
       "  Text(0, 0, ''),\n",
       "  Text(0, 0, '')])"
      ]
     },
     "execution_count": 16,
     "metadata": {},
     "output_type": "execute_result"
    },
    {
     "data": {
      "image/png": "[encoded data removed]",
      "text/plain": [
       "<Figure size 432x288 with 1 Axes>"
      ]
     },
     "metadata": {},
     "output_type": "display_data"
    }
   ],
   "source": [
    "df_agg4 = df_clean[df_clean['is_canceled'] == 0]\n",
    "df_agg4 = df_agg4.groupby([\"hotel\"])['arrival_date_month'].value_counts().reset_index()\n",
    "df_agg4['percentage (%)'] = 100 * df_agg4['arrival_date_month'] / df_agg4.groupby('level_1')['arrival_date_month'].transform('sum')\n",
    "df_agg4.columns = ['hotel', 'arrival_date_month', 'count', 'percentage (%)']\n",
    "month_order = ['January', 'February', 'March', 'April', 'May', 'June', 'July', 'August', 'September', 'October', 'November', 'December']\n",
    "df_agg4['arrival_date_month'] = df_agg4['arrival_date_month'].cat.set_categories(month_order)\n",
    "ax = sns.lineplot(x='arrival_date_month',y='percentage (%)', hue='hotel',data=df_agg4, marker='o')\n",
    "plt.title('arrival_date_month by Hotel\\n')\n",
    "plt.legend(loc='lower left')\n",
    "plt.xlabel('\\narrival_date_month')\n",
    "plt.xticks(rotation=45)"
   ]
  },
  {
   "cell_type": "markdown",
   "id": "8703e614",
   "metadata": {},
   "source": [
    "---"
   ]
  },
  {
   "cell_type": "markdown",
   "id": "b7066d34",
   "metadata": {},
   "source": [
    "Based on the output above, I have determined that the busiest months for both hotels differ by seasons. City hotel is the busiest during the end of summer which is on June and the least busiest during early of winter which is on December. Meanwhile Resort hotel has the opposite trend of City hotel in which Resort hotel is the busiest during winter season (December to February) and the least busiest during Spring season (June) and early of Autumn season (September). This suggests for guests who do not like crowded hotels, it is suggested to them to book Resort hotels than City hotels, especially during Spring season."
   ]
  },
  {
   "cell_type": "markdown",
   "id": "abd516bb",
   "metadata": {},
   "source": [
    "---"
   ]
  },
  {
   "cell_type": "markdown",
   "id": "86e14c2b",
   "metadata": {},
   "source": [
    "## 4.2) Which was the most booked accommodation type (Single, Couple, Family)"
   ]
  },
  {
   "cell_type": "code",
   "execution_count": 17,
   "id": "cdf82b25",
   "metadata": {},
   "outputs": [
    {
     "data": {
      "text/plain": [
       "Text(0.5, 1.0, 'Hotel = Resort hotel')"
      ]
     },
     "execution_count": 17,
     "metadata": {},
     "output_type": "execute_result"
    },
    {
     "data": {
      "image/png": "[encoded data removed]",
      "text/plain": [
       "<Figure size 1080x360 with 2 Axes>"
      ]
     },
     "metadata": {},
     "output_type": "display_data"
    }
   ],
   "source": [
    "df_agg7 = df_clean[df_clean['is_canceled'] == 0]\n",
    "single_resort   = df_agg7[(df_agg7['adults']==1) & (df_agg7['children']==0) & (df_agg7['babies']==0) & (df_agg7['hotel']=='Resort Hotel')]\n",
    "couple_resort   = df_agg7[(df_agg7['adults']==2) & (df_agg7['children']==0) & (df_agg7['babies']==0) & (df_agg7['hotel']=='Resort Hotel')]\n",
    "family_resort   = df_agg7[(df_agg7['adults'] + df_agg7['children'] + df_agg7['babies'] > 2)  & (df_agg7['hotel']=='Resort Hotel')]\n",
    "\n",
    "single_city   = df_agg7[(df_agg7['adults']==1) & (df_agg7['children']==0) & (df_agg7['babies']==0) & (df_agg7['hotel']=='City Hotel')]\n",
    "couple_city   = df_agg7[(df_agg7['adults']==2) & (df_agg7['children']==0) & (df_agg7['babies']==0) & (df_agg7['hotel']=='City Hotel')]\n",
    "family_city   = df_agg7[(df_agg7['adults'] + df_agg7['children'] + df_agg7['babies'] > 2) & (df_agg7['hotel']=='City Hotel')]\n",
    "\n",
    "names_resort = ['Single', 'Couple (No Children)', 'Family / Friends']\n",
    "count_resort = [single_resort.shape[0],couple_resort.shape[0], family_resort.shape[0]]\n",
    "count_percent_resort = [x/df_agg7.shape[0]*100 for x in count_resort]\n",
    "\n",
    "names_city = ['Single', 'Couple (No Children)', 'Family / Friends']\n",
    "count_city = [single_city.shape[0],couple_city.shape[0], family_city.shape[0]]\n",
    "count_percent_city = [x/df_agg7.shape[0]*100 for x in count_city]\n",
    "\n",
    "fig, axes = plt.subplots(1, 2, figsize=(15, 5), sharey=True)\n",
    "sns.barplot(ax=axes[0], x=names_city, y=count_percent_city)\n",
    "axes[0].set_title('Hotel = City hotel')\n",
    "axes[0].set_ylabel('percentage (%)')\n",
    "\n",
    "sns.barplot(ax=axes[1], x=names_resort, y=count_percent_resort)\n",
    "axes[1].set_title('Hotel = Resort hotel')"
   ]
  },
  {
   "cell_type": "markdown",
   "id": "fee03f32",
   "metadata": {},
   "source": [
    "---"
   ]
  },
  {
   "cell_type": "markdown",
   "id": "b8b6f885",
   "metadata": {},
   "source": [
    "The above chart describes that similar trend is observed for both hotels in which most of guests who arrived for the booking are Couple with no children, followed by Single guests, and Family guests. This suggests for guests who are newlyweds (Couple with no children), they are recommended to go for City Hotel based on other peoples' preference for the hotel."
   ]
  },
  {
   "cell_type": "markdown",
   "id": "83489e14",
   "metadata": {},
   "source": [
    "---"
   ]
  },
  {
   "cell_type": "markdown",
   "id": "92c12f79",
   "metadata": {},
   "source": [
    "## 4.3) What is the trend of each accommodation type?"
   ]
  },
  {
   "cell_type": "code",
   "execution_count": 18,
   "id": "a59bbcef",
   "metadata": {},
   "outputs": [
    {
     "name": "stderr",
     "output_type": "stream",
     "text": [
      "100%|██████████████████████████████████████████████████████████████████████████| 75166/75166 [00:11<00:00, 6275.86it/s]\n"
     ]
    }
   ],
   "source": [
    "df_agg8 = df_clean[df_clean['is_canceled'] == 0].reset_index(drop=True)\n",
    "df_agg8['social_status'] = ''\n",
    "for i in tqdm(range(len(df_agg8))):\n",
    "    if ((df_agg8['adults'][i]==1) & (df_agg8['children'][i]==0) & (df_agg8['babies'][i]==0)): \n",
    "        df_agg8['social_status'][i] = 'single'\n",
    "    elif ((df_agg8['adults'][i]==2) & (df_agg8['children'][i]==0) & (df_agg8['babies'][i]==0)): \n",
    "         df_agg8['social_status'][i] = 'couple (no children)'\n",
    "    else:\n",
    "        df_agg8['social_status'][i] = 'family / friends'\n",
    "        \n",
    "df_agg8 = df_agg8.groupby(['hotel','reservation_status_date'])['social_status'].value_counts().reset_index(level=['reservation_status_date'])\n",
    "df_agg8.columns = ['reservation_status_date','count']\n",
    "df_agg8 = df_agg8.reset_index()\n",
    "\n",
    "df_agg8 = df_agg8.sort_values(by='reservation_status_date', ascending=True).reset_index(drop=True)\n",
    "unique_dates = df_agg8.drop_duplicates(subset=['reservation_status_date']).sort_values(by=['reservation_status_date']).reset_index(drop=True)['reservation_status_date'].dt.strftime('%d %b %Y').astype('str').to_list()\n",
    "\n",
    "options = unique_dates.copy()\n",
    "index = (0, len(options)-1)\n",
    "\n",
    "selection_range_slider = SelectionRangeSlider(options=options,index=index,description='Dates',orientation='horizontal',layout={'width': '500px'})"
   ]
  },
  {
   "cell_type": "code",
   "execution_count": 19,
   "id": "1c5a69bc",
   "metadata": {},
   "outputs": [
    {
     "data": {
      "application/vnd.jupyter.widget-view+json": {
       "model_id": "bb4ca9d144294b888a5f362af6352a2e",
       "version_major": 2,
       "version_minor": 0
      },
      "text/plain": [
       "interactive(children=(SelectionRangeSlider(description='Dates', index=(0, 804), layout=Layout(width='500px'), …"
      ]
     },
     "metadata": {},
     "output_type": "display_data"
    }
   ],
   "source": [
    "@interact\n",
    "def show_plot(date_range=selection_range_slider):\n",
    "    df_filter = df_agg8.loc[(df_agg8['reservation_status_date'] >=  date_range[0]) & (df_agg8['reservation_status_date'] <=  date_range[1])]\n",
    "    fig, axes = plt.subplots(1, 2, figsize=(15, 5), sharey=True)\n",
    "    df_agg8_city = df_filter[df_filter['hotel'] == 'City Hotel'].reset_index(drop=True)\n",
    "    ax1 = sns.lineplot(ax=axes[0], x='reservation_status_date', y='count', hue='social_status', data=df_agg8_city)\n",
    "    ax1.tick_params(axis=\"x\", rotation=45) \n",
    "    ax1.set_title('Hotel = City Hotel')\n",
    "    ax1.set_xlabel('\\nreservation_status_date')\n",
    "    df_agg8_resort = df_filter[df_filter['hotel'] == 'Resort Hotel'].reset_index(drop=True)\n",
    "    ax2 = sns.lineplot(ax=axes[1], x='reservation_status_date', y='count', hue='social_status', data=df_agg8_resort)\n",
    "    ax2.tick_params(axis=\"x\", rotation=45)\n",
    "    ax2.set_title('Hotel = Resort Hotel')\n",
    "    ax2.set_xlabel('\\nreservation_status_date')"
   ]
  },
  {
   "cell_type": "markdown",
   "id": "fbcd32e7",
   "metadata": {},
   "source": [
    "---"
   ]
  },
  {
   "cell_type": "markdown",
   "id": "4166f489",
   "metadata": {},
   "source": [
    "The above line plot shows:<br>1) Couples tend to book hotels in the middle of months<br>2) Singles prefer to book for hotels in early of the month<br> 3) Family or friends tend to book for hotels in the middle of years especially on July<br> 4) Trend of Single people booking is the opposite of Family / friends booking<br><br>This trend can be used as reference for guests to book for hotels for when hotels are crowded (peak dates) and when they are not.<br><br>After we have done with Data Science Use Cases (For Guests), let's proceed for Predictive Modelling. First, I will perform classification task for Predictive Modelling"
   ]
  },
  {
   "cell_type": "markdown",
   "id": "1d4cd06a",
   "metadata": {},
   "source": [
    "---"
   ]
  },
  {
   "cell_type": "markdown",
   "id": "45b22305",
   "metadata": {},
   "source": [
    "# 5) Predictive Modelling (Classification)\n",
    "### Q4. Develop a model to predict bookings cancellation and explain the model as well as it’s output."
   ]
  },
  {
   "cell_type": "markdown",
   "id": "28d2675f",
   "metadata": {},
   "source": [
    "### 5.1) Data Preparation"
   ]
  },
  {
   "cell_type": "code",
   "execution_count": 33,
   "id": "3374128e",
   "metadata": {},
   "outputs": [],
   "source": [
    "useless_col = ['hotel', 'days_in_waiting_list', 'arrival_date_year', 'arrival_date_year', 'assigned_room_type', 'booking_changes',\n",
    "               'reservation_status', 'country', 'days_in_waiting_list']\n",
    "\n",
    "df_classification = df_clean.drop(useless_col, axis = 1)\n",
    "\n",
    "le=LabelEncoder()\n",
    "df_classification['year'] = df_classification['reservation_status_date'].dt.year\n",
    "df_classification['month'] = df_classification['reservation_status_date'].dt.month\n",
    "df_classification['day'] = df_classification['reservation_status_date'].dt.day\n",
    "\n",
    "df_classification = df_classification.drop(['reservation_status_date','arrival_date_month'] , axis = 1)\n",
    "\n",
    "a = df_classification.select_dtypes(object).columns\n",
    "cat_list = []\n",
    "for i in a:\n",
    "    print (i, df_classification[i].nunique())\n",
    "    cat_list.append(i)\n",
    "    \n",
    "for i in cat_list:\n",
    "    df_classification[i] = le.fit_transform(df_classification[i])\n",
    "    \n",
    "df_classification['year'] = le.fit_transform(df_classification['year'])\n",
    "df_classification['month'] = le.fit_transform(df_classification['month'])\n",
    "df_classification['day'] = le.fit_transform(df_classification['day'])"
   ]
  },
  {
   "cell_type": "markdown",
   "id": "794edee3",
   "metadata": {},
   "source": [
    "### 5.2) Data Splitting"
   ]
  },
  {
   "cell_type": "code",
   "execution_count": 34,
   "id": "d6b89326",
   "metadata": {},
   "outputs": [],
   "source": [
    "y = df_classification['is_canceled']\n",
    "X1 = df_classification.drop('is_canceled', axis = 1)\n",
    "X2 = pd.get_dummies(df_classification)\n",
    "X_train1, X_test1, y_train1, y_test1 = train_test_split(X1,y,random_state=42,test_size=0.43)\n",
    "X_train2, X_test2, y_train2, y_test2 = train_test_split(X2,y,random_state=42,test_size=0.43)"
   ]
  },
  {
   "cell_type": "markdown",
   "id": "cd3f5b36",
   "metadata": {},
   "source": [
    "### 5.3) Data Transformation "
   ]
  },
  {
   "cell_type": "code",
   "execution_count": 35,
   "id": "e5f18fbe",
   "metadata": {},
   "outputs": [],
   "source": [
    "scaler = StandardScaler()\n",
    "\n",
    "X_train2 = scaler.fit_transform(X_train2)\n",
    "X_test2 = scaler.transform(X_test2)"
   ]
  },
  {
   "cell_type": "markdown",
   "id": "6906ed8f",
   "metadata": {},
   "source": [
    "### 5.4) Model Training and Evaluation"
   ]
  },
  {
   "cell_type": "code",
   "execution_count": 38,
   "id": "d3e4a8e7",
   "metadata": {},
   "outputs": [],
   "source": [
    "algorithms = ['Random Forest', 'Decision Tree', 'Support Vector Machine']\n",
    "metrics    = ['Confusion Matrix', 'Classification Report','Accuracy']\n",
    "train_scores = {}\n",
    "pd.set_option('display.max_rows', 10)"
   ]
  },
  {
   "cell_type": "code",
   "execution_count": 41,
   "id": "48c4de27",
   "metadata": {},
   "outputs": [
    {
     "data": {
      "application/vnd.jupyter.widget-view+json": {
       "model_id": "c4648d7166f340dd96500ba3ec9a94f2",
       "version_major": 2,
       "version_minor": 0
      },
      "text/plain": [
       "interactive(children=(Dropdown(description='Algorithm', options=('Random Forest', 'Decision Tree', 'Support Ve…"
      ]
     },
     "metadata": {},
     "output_type": "display_data"
    }
   ],
   "source": [
    "@interact\n",
    "def algorithm_validation(Algorithm=algorithms, Metrics=metrics):        \n",
    "    if Algorithm == 'Random Forest':\n",
    "        model = RandomForestClassifier(max_depth=2, random_state=0)\n",
    "        model.fit(X_train2, y_train1) \n",
    "        y_pred = model.predict(X_test2)\n",
    "        X_test1['Predict'] = model.predict(X_test2)\n",
    "        \n",
    "    elif Algorithm == 'Decision Tree':\n",
    "        model = DecisionTreeClassifier(random_state=0)\n",
    "        model.fit(X_train2, y_train1) \n",
    "        y_pred = model.predict(X_test2)\n",
    "        X_test1['Predict'] = model.predict(X_test2)\n",
    "    \n",
    "    elif Algorithm == 'Support Vector Machine':\n",
    "        model = SVC(kernel='linear')\n",
    "        model.fit(X_train2, y_train1) \n",
    "        y_pred = model.predict(X_test2)\n",
    "        X_test1['Predict'] = model.predict(X_test2)\n",
    "        \n",
    "    if Metrics == 'Classification Report':\n",
    "        score = classification_report(y_test2, y_pred)\n",
    "        \n",
    "    elif Metrics == 'Accuracy':\n",
    "        score = accuracy_score(y_test2, y_pred)\n",
    "        \n",
    "    elif Metrics == 'Confusion Matrix':\n",
    "        plot_confusion_matrix(model, X_test2, y_test2)\n",
    "        score = confusion_matrix(y_test2, y_pred)\n",
    "        \n",
    "    return print('\\nThe ' + Metrics + ' of ' + Algorithm + ' is:\\n\\n'+ str(score) + '\\n')"
   ]
  },
  {
   "cell_type": "markdown",
   "id": "af495325",
   "metadata": {},
   "source": [
    "---"
   ]
  },
  {
   "cell_type": "markdown",
   "id": "4f4f9906",
   "metadata": {},
   "source": [
    "Classification Report, Accuracy, & Confusion Matrix of Random Forest (RF) explains that the prediction model is able to predict unseen data with 75% accuracy, while both Decision Tree (DT) and Support Vector Machine (SVM) have accuracies of 100%. This means that RF  model is the best model as it can generalise data prediction for booking cancellation very well while DT & SVM are overfitted model that could not predict booking cancellation very well when it sees unseen data. Therefore, Random Forest model is the most suitable for deployment on predicting new datasets.<br><br>After we have done with Predictive Modelling (Classification), finally, let's proceed for Predictive Modelling (Regression)"
   ]
  },
  {
   "cell_type": "markdown",
   "id": "f1b684da",
   "metadata": {},
   "source": [
    "---"
   ]
  },
  {
   "cell_type": "markdown",
   "id": "953a567c",
   "metadata": {},
   "source": [
    "# 6) Predictive Modelling (Regression)\n",
    "### Q5. Develop a model to predict the number of booking nights for any new booking."
   ]
  },
  {
   "cell_type": "markdown",
   "id": "88f6b1ff",
   "metadata": {},
   "source": [
    "### 6.1) Data Preparation"
   ]
  },
  {
   "cell_type": "code",
   "execution_count": 25,
   "id": "21a5e683",
   "metadata": {},
   "outputs": [],
   "source": [
    "df_clean['booking_nights'] = df_clean['stays_in_weekend_nights'] + df_clean['stays_in_week_nights']\n",
    "useless_col = ['hotel', 'days_in_waiting_list', 'arrival_date_year', 'arrival_date_year', 'assigned_room_type', 'booking_changes',\n",
    "               'reservation_status', 'country', 'days_in_waiting_list']\n",
    "\n",
    "df_regression = df_clean.drop(useless_col, axis = 1)\n",
    "\n",
    "le=LabelEncoder()\n",
    "df_regression['year'] = df_regression['reservation_status_date'].dt.year\n",
    "df_regression['month'] = df_regression['reservation_status_date'].dt.month\n",
    "df_regression['day'] = df_regression['reservation_status_date'].dt.day\n",
    "\n",
    "df_regression = df_regression.drop(['reservation_status_date','arrival_date_month'] , axis = 1)\n",
    "\n",
    "a = df_regression.select_dtypes(object).columns\n",
    "cat_list = []\n",
    "for i in a:\n",
    "    print (i, df_regression[i].nunique())\n",
    "    cat_list.append(i)\n",
    "    \n",
    "for i in cat_list:\n",
    "    df_regression[i] = le.fit_transform(df_regression[i])\n",
    "    \n",
    "df_regression['year'] = le.fit_transform(df_regression['year'])\n",
    "df_regression['month'] = le.fit_transform(df_regression['month'])\n",
    "df_regression['day'] = le.fit_transform(df_regression['day'])"
   ]
  },
  {
   "cell_type": "markdown",
   "id": "c4ec0ec2",
   "metadata": {},
   "source": [
    "### 6.2) Data Splitting"
   ]
  },
  {
   "cell_type": "code",
   "execution_count": 26,
   "id": "6969cafd",
   "metadata": {},
   "outputs": [],
   "source": [
    "y = df_regression['booking_nights']\n",
    "X1 = df_regression.drop('booking_nights', axis = 1)\n",
    "X2 = pd.get_dummies(df_regression)\n",
    "X_train1, X_test1, y_train1, y_test1 = train_test_split(X1,y,random_state=42,test_size=0.43)\n",
    "X_train2, X_test2, y_train2, y_test2 = train_test_split(X2,y,random_state=42,test_size=0.43)"
   ]
  },
  {
   "cell_type": "markdown",
   "id": "95adc0af",
   "metadata": {},
   "source": [
    "### 6.3) Data Transformation"
   ]
  },
  {
   "cell_type": "code",
   "execution_count": 27,
   "id": "7a9c7cb2",
   "metadata": {},
   "outputs": [],
   "source": [
    "scaler = StandardScaler()\n",
    "\n",
    "X_train2 = scaler.fit_transform(X_train2)\n",
    "X_test2 = scaler.transform(X_test2)"
   ]
  },
  {
   "cell_type": "markdown",
   "id": "03d07b1c",
   "metadata": {},
   "source": [
    "### 6.4) Model Training & Evaluation"
   ]
  },
  {
   "cell_type": "code",
   "execution_count": 28,
   "id": "caa00e25",
   "metadata": {},
   "outputs": [],
   "source": [
    "algorithms = ['Linear Regression','Support Vector Regression', 'Random Forest', 'Extra Trees', 'XGBoost']\n",
    "metrics    = ['Root Mean Squared Error', 'R2 Score', 'Mean Squared Error', 'Mean Absolute Error',  'Mean Absolute Percentage Error']\n",
    "train_scores = {}\n",
    "pd.set_option('display.max_rows', 10)"
   ]
  },
  {
   "cell_type": "code",
   "execution_count": 29,
   "id": "3e84e731",
   "metadata": {},
   "outputs": [
    {
     "data": {
      "application/vnd.jupyter.widget-view+json": {
       "model_id": "e1f42f35d4094f26b570ca357899f348",
       "version_major": 2,
       "version_minor": 0
      },
      "text/plain": [
       "interactive(children=(Dropdown(description='Algorithm', options=('Linear Regression', 'Support Vector Regressi…"
      ]
     },
     "metadata": {},
     "output_type": "display_data"
    }
   ],
   "source": [
    "@interact\n",
    "def algorithm_validation(Algorithm=algorithms, Metrics=metrics):\n",
    "    if Algorithm == 'Support Vector Regression':\n",
    "        from sklearn import svm\n",
    "        svr = svm.SVR()\n",
    "        svr.fit(X_train2, y_train2)\n",
    "        y_pred = svr.predict(X_test2)\n",
    "        X_test1['Predict'] = svr.predict(X_test2)\n",
    "        \n",
    "    elif Algorithm == 'Random Forest':\n",
    "        from sklearn.ensemble import RandomForestRegressor\n",
    "        rf = RandomForestRegressor(n_estimators = 100, random_state = 0)\n",
    "        rf.fit(X_train2, y_train2) \n",
    "        y_pred = rf.predict(X_test2)\n",
    "        X_test1['Predict'] = rf.predict(X_test2)\n",
    "        \n",
    "    elif Algorithm == 'Extra Trees':\n",
    "        from sklearn.ensemble import ExtraTreesRegressor\n",
    "        ext = ExtraTreesRegressor(n_estimators = 100, random_state = 0)\n",
    "        ext.fit(X_train2, y_train2) \n",
    "        y_pred = ext.predict(X_test2)\n",
    "        X_test1['Predict'] = ext.predict(X_test2)\n",
    "        \n",
    "    elif Algorithm == 'XGBoost':\n",
    "        from xgboost import XGBRegressor\n",
    "        xgb = XGBRegressor()\n",
    "        xgb.fit(X_train2, y_train2) \n",
    "        y_pred = xgb.predict(X_test2)\n",
    "        X_test1['Predict'] = xgb.predict(X_test2)\n",
    "        \n",
    "    elif Algorithm == 'Linear Regression':\n",
    "        from sklearn.linear_model import LinearRegression\n",
    "        lr = LinearRegression()\n",
    "        lr.fit(X_train2, y_train2) \n",
    "        y_pred = lr.predict(X_test2)\n",
    "        X_test1['Predict'] = lr.predict(X_test2)\n",
    "        \n",
    "    if Metrics == 'Mean Squared Error':\n",
    "        from sklearn.metrics import mean_squared_error\n",
    "        score = mean_squared_error(y_test2, y_pred)\n",
    "        train_scores[Algorithm] = mean_squared_error(y_test2, y_pred)\n",
    "        \n",
    "    elif Metrics == 'Mean Absolute Error':\n",
    "        from sklearn.metrics import mean_absolute_error\n",
    "        score = mean_absolute_error(y_test2, y_pred)\n",
    "        train_scores[Algorithm] = mean_absolute_error(y_test2, y_pred)\n",
    "        \n",
    "    elif Metrics == 'Root Mean Squared Error':\n",
    "        from sklearn.metrics import mean_squared_error\n",
    "        score = mean_squared_error(y_test2, y_pred)**(1/2)\n",
    "        train_scores[Algorithm] = mean_squared_error(y_test2, y_pred)**(1/2)\n",
    "    \n",
    "    elif Metrics == 'Mean Absolute Percentage Error':\n",
    "        from sklearn.metrics import mean_absolute_percentage_error\n",
    "        score = mean_absolute_percentage_error(y_test2, y_pred)\n",
    "        train_scores[Algorithm] = mean_absolute_percentage_error(y_test2, y_pred)\n",
    "        \n",
    "    elif Metrics == 'R2 Score':\n",
    "        from sklearn.metrics import r2_score\n",
    "        score = r2_score(y_test2, y_pred)    \n",
    "        train_scores[Algorithm] = r2_score(y_test2, y_pred)\n",
    "        \n",
    "    print('\\nThe ' + Metrics + ' for ' + Algorithm + ' is : ' + str(round(score,2)) + '\\n')\n",
    "    final_df = pd.concat([X_test1,y_test1], axis=1) \n",
    "    return final_df"
   ]
  },
  {
   "cell_type": "markdown",
   "id": "3e6f2ffb",
   "metadata": {},
   "source": [
    "---"
   ]
  },
  {
   "cell_type": "markdown",
   "id": "e8d53e94",
   "metadata": {},
   "source": [
    "Based on all model evaluation metrics (RMSE, MSE, MAE, R2 Score, and MAPE), it is found out that all models used in this notebook (Linear Regression, Support Vector Regression, Random Forest, Extra Trees, XGBoost) performed very well with very low error (RMSE, MSE, MAE, & MAPE) and very high R<sup>2</sup> score. Hence, all of these models can be used during model deployment in predicting number of booking night when there is a new dataset comes."
   ]
  },
  {
   "cell_type": "markdown",
   "id": "f7620b21",
   "metadata": {},
   "source": [
    "---"
   ]
  },
  {
   "cell_type": "markdown",
   "id": "aa4a1568",
   "metadata": {},
   "source": [
    "**Thank You**"
   ]
  }
 ],
 "metadata": {
  "kernelspec": {
   "display_name": "Python 3 (ipykernel)",
   "language": "python",
   "name": "python3"
  },
  "language_info": {
   "codemirror_mode": {
    "name": "ipython",
    "version": 3
   },
   "file_extension": ".py",
   "mimetype": "text/x-python",
   "name": "python",
   "nbconvert_exporter": "python",
   "pygments_lexer": "ipython3",
   "version": "3.9.7"
  }
 },
 "nbformat": 4,
 "nbformat_minor": 5
}
